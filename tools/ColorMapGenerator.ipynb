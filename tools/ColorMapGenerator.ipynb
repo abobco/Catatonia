{
 "cells": [
  {
   "cell_type": "code",
   "execution_count": 1,
   "metadata": {},
   "outputs": [
    {
     "name": "stdout",
     "output_type": "stream",
     "text": [
      "Requirement already satisfied: opencv-python in d:\\anaconda3\\lib\\site-packages (4.1.2.30)\n",
      "Requirement already satisfied: numpy>=1.14.5 in d:\\anaconda3\\lib\\site-packages (from opencv-python) (1.16.4)\n",
      "Note: you may need to restart the kernel to use updated packages.\n"
     ]
    }
   ],
   "source": [
    "pip install opencv-python"
   ]
  },
  {
   "cell_type": "code",
   "execution_count": 2,
   "metadata": {},
   "outputs": [],
   "source": [
    "import cv2\n",
    "import numpy as np\n",
    "import math\n",
    "import os"
   ]
  },
  {
   "cell_type": "markdown",
   "metadata": {},
   "source": [
    "## Local path color map will be saved to"
   ]
  },
  {
   "cell_type": "code",
   "execution_count": 3,
   "metadata": {},
   "outputs": [],
   "source": [
    "path = 'D:\\Code\\Web Projects\\cat game\\Catatonia\\dist\\sprites'"
   ]
  },
  {
   "cell_type": "markdown",
   "metadata": {},
   "source": [
    "## Load input image"
   ]
  },
  {
   "cell_type": "code",
   "execution_count": 4,
   "metadata": {},
   "outputs": [
    {
     "name": "stdout",
     "output_type": "stream",
     "text": [
      "[ 82 162 255]\n"
     ]
    }
   ],
   "source": [
    "palette = cv2.imread('cat_palette_input.png')\n",
    "print(palette[0][0]) # color is in BGR format cuz OpenCV is very special and different"
   ]
  },
  {
   "cell_type": "markdown",
   "metadata": {},
   "source": [
    "## Write to color map"
   ]
  },
  {
   "cell_type": "code",
   "execution_count": 8,
   "metadata": {},
   "outputs": [],
   "source": [
    "def saveColorMap(row):\n",
    "    color_map = np.ones((512,512,3), np.uint8)\n",
    "    color_map = np.multiply(color_map, 255)\n",
    "\n",
    "    # iterate through each pixel collumn of the palette image\n",
    "    for  i in range(0, palette.shape[1]) :\n",
    "        \n",
    "        # get the default pixel color from the top row of the palette image\n",
    "        default_r = palette[0][i][2]\n",
    "        default_g = palette[0][i][1]\n",
    "        default_b = palette[0][i][0]\n",
    "\n",
    "        # calculate map position & assign to color map\n",
    "        diag_offset = math.ceil(default_b / 2.0)\n",
    "\n",
    "        x = default_r + diag_offset\n",
    "        y = default_g + diag_offset\n",
    "\n",
    "        # assign color to be mapped to the caluclated position\n",
    "        color_map[y][x] = palette[row][i]\n",
    "\n",
    "    # output the image to check in a window\n",
    "    # cv2.imshow('test', color_map)\n",
    "    # cv2.waitKey(0)\n",
    "    # cv2.destroyAllWindows()\n",
    "        \n",
    "    fileName = 'color_map_' + str(row) + '.png'\n",
    "    \n",
    "    cv2.imwrite(os.path.join(path ,fileName), color_map)"
   ]
  },
  {
   "cell_type": "code",
   "execution_count": 9,
   "metadata": {},
   "outputs": [],
   "source": [
    "saveColorMap(1)\n",
    "saveColorMap(2)\n",
    "saveColorMap(3)"
   ]
  },
  {
   "cell_type": "code",
   "execution_count": null,
   "metadata": {},
   "outputs": [],
   "source": []
  }
 ],
 "metadata": {
  "kernelspec": {
   "display_name": "Python 3",
   "language": "python",
   "name": "python3"
  },
  "language_info": {
   "codemirror_mode": {
    "name": "ipython",
    "version": 3
   },
   "file_extension": ".py",
   "mimetype": "text/x-python",
   "name": "python",
   "nbconvert_exporter": "python",
   "pygments_lexer": "ipython3",
   "version": "3.7.3"
  }
 },
 "nbformat": 4,
 "nbformat_minor": 2
}
